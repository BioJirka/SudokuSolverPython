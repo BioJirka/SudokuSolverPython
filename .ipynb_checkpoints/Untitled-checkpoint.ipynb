{
 "cells": [
  {
   "cell_type": "code",
   "execution_count": 3,
   "metadata": {},
   "outputs": [],
   "source": [
    "import copy"
   ]
  },
  {
   "cell_type": "code",
   "execution_count": 4,
   "metadata": {},
   "outputs": [],
   "source": [
    "class Policko:\n",
    "    def __init__(self):\n",
    "        self.cislo = 0\n",
    "        self.bany_pocet = 0\n",
    "        self.bany = []\n",
    "        self.hodnota = 0\n",
    "        self.hodnota_bonus = 0"
   ]
  },
  {
   "cell_type": "code",
   "execution_count": 5,
   "metadata": {},
   "outputs": [],
   "source": [
    "class Dalsi:\n",
    "    def __init__(self):\n",
    "        self.radek = 1\n",
    "        self.sloupec = 1\n",
    "        self.hodnota = 0\n",
    "        self.indikator = 0\n",
    "        self.error = False"
   ]
  },
  {
   "cell_type": "code",
   "execution_count": 6,
   "metadata": {},
   "outputs": [],
   "source": [
    "class Krok_Ban:\n",
    "    def __init__(self, radek, sloupec, cislo):\n",
    "        self.radek = radek\n",
    "        self.sloupec = sloupec\n",
    "        self.cislo = cislo"
   ]
  },
  {
   "cell_type": "code",
   "execution_count": 7,
   "metadata": {},
   "outputs": [],
   "source": [
    "class Krok:\n",
    "    def __init__(self, radek, sloupec, rozmer_cisla):\n",
    "        self.radek = radek\n",
    "        self.sloupec = sloupec\n",
    "        self.cislo_poradi = 0\n",
    "        self.mozna_cisla = []\n",
    "        self.bany = []\n",
    "        for i in range(0, rozmer_cisla):\n",
    "            self.bany.Add(False)"
   ]
  },
  {
   "cell_type": "code",
   "execution_count": 8,
   "metadata": {},
   "outputs": [],
   "source": [
    "class Uloha:\n",
    "    def __init__(self, policka, typ):\n",
    "        self.rozmer_cisla = 9\n",
    "        self.rozmer_mrizka = 9\n",
    "        self.policka = copy.deepcopy(policka)\n",
    "        self.typ = copy.deepcopy(typ)"
   ]
  },
  {
   "cell_type": "code",
   "execution_count": 9,
   "metadata": {},
   "outputs": [],
   "source": [
    "class Sudoku:\n",
    "    def __init__(self, uloha, zarazka_strop = 10**6):\n",
    "        self.zarazka = 0\n",
    "        self.zarazka_strop = zarazka_strop\n",
    "        self.rozmer_cisla = uloha.rozmer_cisla\n",
    "        self.rozmer_mrizka = uloha.rozmer_mrizka\n",
    "        self.uloha = copy.deepcopy(uloha)\n",
    "        self.dalsi = Dalsi()\n",
    "        self.policka = []\n",
    "        for i in range(0, uloha.rozmer_mrizka):\n",
    "            self.policka.append([])\n",
    "            for j in range(0, uloha.rozmer_mrizka):\n",
    "                self.policka[-1].append(Policko())\n",
    "        self.kroky = []\n",
    "        self.hodnota_max = 10**6\n",
    "        self.hodnota_cislo = 10**3\n",
    "        self.flag_resime = False\n",
    "        self.pocet_reseni = 0\n",
    "        self.resitele = []\n",
    "        self.nacti_resitele()\n",
    "        self.nacti_cisla()\n",
    "        self.ohodnot_vse()\n",
    "        self.urci_dalsi_pole\n",
    "    def nacti_resitele(self):\n",
    "        pass\n",
    "    def nacti_cisla(self):\n",
    "        for i in range(0, self.rozmer_mrizka):\n",
    "            for j in range(0, self.rozmer_mrizka):\n",
    "                if self.uloha.policka[i][j] != 0:\n",
    "                    self.policka[i][j].cisla = self.uloha.policka[i][j]\n",
    "                    self.banuj(i + 1, j + 1, self.uloha.policka[i][j])\n",
    "    def ohodnot(self, policko):\n",
    "        if policko.cislo != 0:\n",
    "            policko.hodnota = 0\n",
    "        elif policko.bany_pocet == self.rozmer_cisla:\n",
    "            policko.hodnota = self.hodnota_max\n",
    "        else:\n",
    "            policko.hodnota = self.hodnota_cislo * policko.bany_pocet + policko.hodnota_bonus\n",
    "    def ohodnot_vse(self):\n",
    "        for i in range(0, self.rozmer_mrizka):\n",
    "            for j in range(0, self.rozmer_mrizka):\n",
    "                self.ohodnot(self.policka[i][j])\n",
    "    def urci_dalsi_pole(self):\n",
    "        self.dalsi.hodnota = 0\n",
    "        for i in range(0, self.rozmer_mrizka):\n",
    "            for j in range(0, self.rozmer_mrizka):\n",
    "                if self.policka[i][j].hodnota > self.dalsi.hodnota:\n",
    "                    self.dalsi.radek = i + 1\n",
    "                    self.dalsi.sloupec = j + 1\n",
    "                    self.dalsi.hodnota = self.policka[i][j].hodnota\n",
    "    def urci_dalsi_krok(self):\n",
    "        if self.dalsi.indikator == 2:\n",
    "            if self.kroky[-1].cislo_poradi + 1 < len(self.kroky[-1].mozna_cisla):\n",
    "                self.dalsi.indikator = 0\n",
    "            else:\n",
    "                self.dalsi.indikator = -1\n",
    "        elif self.dalsi.indikator in [0, 1]:\n",
    "            if (not self.dalsi.error) and self.dalsi.hodnota == 0:\n",
    "                self.dalsi.indikator = 2\n",
    "            elif (not self.dalsi.error) and self.dalsi.hodnota < self.hodnota_max:\n",
    "                self.dalsi.indikator = 1\n",
    "            elif self.kroky[-1].cislo_poradi + 1 < len(self.kroky[-1].mozna_cisla):\n",
    "                self.dalsi.indikator = 0\n",
    "            else:\n",
    "                self.dalsi.indikator = -1\n",
    "        elif self.dalsi.indikator == -1:\n",
    "            if len(self.kroky) == 0:\n",
    "                self.dalsi.indikator = -2\n",
    "            elif self.kroky[-1].cislo_poradi + 1 < len(self.kroky[-1].mozna_cisla):\n",
    "                self.dalsi.indikator = 0\n",
    "            else:\n",
    "                self.dalsi.indikator = -1\n",
    "        self.dalsi.error = False\n",
    "    def udelej_dalsi_krok(self):\n",
    "        if self.dalsi.indikator == 2:\n",
    "            self.napis_reseni()\n",
    "        elif self.dalsi.indikator == 1:\n",
    "            self.napis_cislo()\n",
    "        elif self.dalsi.indikator == 0:\n",
    "            self.zmen_cislo()\n",
    "        elif self.dalsi.indikator == -1:\n",
    "            self.smaz_cislo()\n",
    "        self.urci_dalsi_pole()\n",
    "        self.urci_dalsi_krok()\n",
    "    def napis_cislo(self):\n",
    "        pass\n",
    "    def zmen_cislo(self):\n",
    "        pass\n",
    "    def smaz_cislo(self):\n",
    "        pass\n",
    "    def banuj(self, radek, sloupec, cislo):\n",
    "        pass\n",
    "    def banuj_policko(self):\n",
    "        pass\n",
    "    def banuj_policko_inverse(self):\n",
    "        pass\n",
    "    def banuj_policko_inverse_2(self):\n",
    "        pass\n",
    "    def odbanuj(self):\n",
    "        pass\n",
    "    def napis_zadani(self):\n",
    "        pass\n",
    "    def napis_reseni(self):\n",
    "        pass\n",
    "    def napis_bany(self):\n",
    "        pass\n",
    "    def vyres_sudoku(self):\n",
    "        pass\n",
    "    def vyres_sudoku_pomalu(self):\n",
    "        pass"
   ]
  },
  {
   "cell_type": "code",
   "execution_count": 10,
   "metadata": {},
   "outputs": [],
   "source": [
    "P = [[0,0,0,0,0,0,0,0,0],[0,0,0,0,0,0,0,0,0],[0,0,0,0,0,0,0,0,0],\n",
    "     [0,0,0,0,0,0,0,0,0],[0,0,0,0,0,0,0,0,0],[0,0,0,0,0,0,0,0,0],\n",
    "     [0,0,0,0,0,0,0,0,0],[0,0,0,0,0,0,0,0,0],[0,0,0,0,0,0,0,0,0]]"
   ]
  },
  {
   "cell_type": "code",
   "execution_count": 11,
   "metadata": {},
   "outputs": [],
   "source": [
    "U = Uloha(P, [\"basic\"])"
   ]
  },
  {
   "cell_type": "code",
   "execution_count": 12,
   "metadata": {},
   "outputs": [],
   "source": [
    "S = Sudoku(U)"
   ]
  },
  {
   "cell_type": "code",
   "execution_count": null,
   "metadata": {},
   "outputs": [],
   "source": []
  }
 ],
 "metadata": {
  "kernelspec": {
   "display_name": "Python 3",
   "language": "python",
   "name": "python3"
  },
  "language_info": {
   "codemirror_mode": {
    "name": "ipython",
    "version": 3
   },
   "file_extension": ".py",
   "mimetype": "text/x-python",
   "name": "python",
   "nbconvert_exporter": "python",
   "pygments_lexer": "ipython3",
   "version": "3.7.6"
  }
 },
 "nbformat": 4,
 "nbformat_minor": 4
}
